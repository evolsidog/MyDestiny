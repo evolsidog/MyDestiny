{
 "cells": [
  {
   "cell_type": "code",
   "execution_count": null,
   "metadata": {
    "collapsed": true
   },
   "outputs": [],
   "source": [
    "# We need python 3.5 or higher for uvloop and asyncio\n",
    "# conda create --name py36_2 python=3.6.2 anaconda\n",
    "# source activate py36_2\n",
    "# pip install sanic"
   ]
  },
  {
   "cell_type": "code",
   "execution_count": 7,
   "metadata": {
    "collapsed": true
   },
   "outputs": [],
   "source": [
    "# https://github.com/channelcat/sanic/blob/master/examples/simple_server.py\n",
    "from sanic import Sanic\n",
    "from sanic import response\n",
    "from sanic.response import text"
   ]
  },
  {
   "cell_type": "code",
   "execution_count": null,
   "metadata": {},
   "outputs": [
    {
     "name": "stderr",
     "output_type": "stream",
     "text": [
      "2017-10-15 22:45:42 - (sanic)[DEBUG]: \n",
      "                 ▄▄▄▄▄\n",
      "        ▀▀▀██████▄▄▄       _______________\n",
      "      ▄▄▄▄▄  █████████▄  /                 \\\n",
      "     ▀▀▀▀█████▌ ▀▐▄ ▀▐█ |   Gotta go fast!  |\n",
      "   ▀▀█████▄▄ ▀██████▄██ | _________________/\n",
      "   ▀▄▄▄▄▄  ▀▀█▄▀█════█▀ |/\n",
      "        ▀▀▀▄  ▀▀███ ▀       ▄▄\n",
      "     ▄███▀▀██▄████████▄ ▄▀▀▀▀▀▀█▌\n",
      "   ██▀▄▄▄██▀▄███▀ ▀▀████      ▄██\n",
      "▄▀▀▀▄██▄▀▀▌████▒▒▒▒▒▒███     ▌▄▄▀\n",
      "▌    ▐▀████▐███▒▒▒▒▒▐██▌\n",
      "▀▄▄▄▄▀   ▀▀████▒▒▒▒▄██▀\n",
      "          ▀▀█████████▀\n",
      "        ▄▄██▀██████▀█\n",
      "      ▄██▀     ▀▀▀  █\n",
      "     ▄█             ▐▌\n",
      " ▄▄▄▄█▌              ▀█▄▄▄▄▀▀▄\n",
      "▌     ▐                ▀▀▄▄▄▀\n",
      " ▀▀▄▄▀\n",
      "\n",
      "2017-10-15 22:45:42 - (sanic)[INFO]: Goin' Fast @ http://localhost:8000\n",
      "2017-10-15 22:45:42 - (sanic)[INFO]: Starting worker [2611]\n",
      "2017-10-15 22:45:45 - (network)[INFO][127.0.0.1:32952]: GET http://localhost:8000/user/78  200 12\n",
      "2017-10-15 22:45:46 - (network)[INFO][127.0.0.1:32952]: GET http://localhost:8000/user/78  200 12\n",
      "2017-10-15 22:45:47 - (network)[INFO][127.0.0.1:32952]: GET http://localhost:8000/user/78  200 12\n",
      "2017-10-15 22:46:47 - (sanic)[ERROR]: Traceback (most recent call last):\n",
      "  File \"/home/vic/anaconda2/envs/py36_2/lib/python3.6/site-packages/sanic/server.py\", line 143, in connection_timeout\n",
      "    raise RequestTimeout('Request Timeout')\n",
      "sanic.exceptions.RequestTimeout: Request Timeout\n",
      "\n"
     ]
    }
   ],
   "source": [
    "app = Sanic(__name__)\n",
    "@app.route(\"/\", methods=['GET'])\n",
    "async def test(request):\n",
    "    return response.json({\"test\": True})\n",
    "\n",
    "@app.get('/user/<user_id:int>')\n",
    "async def integer_handler(request, user_id):\n",
    "    return text('User_id - {}'.format(user_id))\n",
    "\n",
    "app.run(host=\"localhost\", port=8000)"
   ]
  },
  {
   "cell_type": "code",
   "execution_count": null,
   "metadata": {
    "collapsed": true
   },
   "outputs": [],
   "source": []
  }
 ],
 "metadata": {
  "kernelspec": {
   "display_name": "Python 3",
   "language": "python",
   "name": "python3"
  },
  "language_info": {
   "codemirror_mode": {
    "name": "ipython",
    "version": 3
   },
   "file_extension": ".py",
   "mimetype": "text/x-python",
   "name": "python",
   "nbconvert_exporter": "python",
   "pygments_lexer": "ipython3",
   "version": "3.6.2"
  }
 },
 "nbformat": 4,
 "nbformat_minor": 2
}

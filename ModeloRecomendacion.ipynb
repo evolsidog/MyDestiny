{
 "cells": [
  {
   "cell_type": "code",
   "execution_count": 1,
   "metadata": {
    "collapsed": true
   },
   "outputs": [],
   "source": [
    "import pandas as pd\n",
    "import numpy as np\n",
    "from sklearn.neighbors import NearestNeighbors"
   ]
  },
  {
   "cell_type": "markdown",
   "metadata": {},
   "source": [
    "## Prearacion de los datos"
   ]
  },
  {
   "cell_type": "markdown",
   "metadata": {},
   "source": [
    "Aquí construiremos vectores de 1 y 0 marcando a cada persona si ha ido de viaje a un pais o no"
   ]
  },
  {
   "cell_type": "code",
   "execution_count": 2,
   "metadata": {},
   "outputs": [
    {
     "name": "stderr",
     "output_type": "stream",
     "text": [
      "/home/pc/.local/lib/python2.7/site-packages/numpy/lib/arraysetops.py:463: FutureWarning: elementwise comparison failed; returning scalar instead, but in the future will perform elementwise comparison\n",
      "  mask |= (ar1 == a)\n"
     ]
    }
   ],
   "source": [
    "data = pd.read_table('/home/pc/Escritorio/TFM/marketing_pax_clean.csv',sep='^',header=0,decimal='.',index_col=0)"
   ]
  },
  {
   "cell_type": "code",
   "execution_count": 3,
   "metadata": {},
   "outputs": [
    {
     "data": {
      "text/html": [
       "<div>\n",
       "<style>\n",
       "    .dataframe thead tr:only-child th {\n",
       "        text-align: right;\n",
       "    }\n",
       "\n",
       "    .dataframe thead th {\n",
       "        text-align: left;\n",
       "    }\n",
       "\n",
       "    .dataframe tbody tr th {\n",
       "        vertical-align: top;\n",
       "    }\n",
       "</style>\n",
       "<table border=\"1\" class=\"dataframe\">\n",
       "  <thead>\n",
       "    <tr style=\"text-align: right;\">\n",
       "      <th></th>\n",
       "      <th>rloc</th>\n",
       "      <th>full_name</th>\n",
       "      <th>departure_date_leg</th>\n",
       "      <th>board_point</th>\n",
       "      <th>board_country_code</th>\n",
       "      <th>off_point</th>\n",
       "      <th>off_country_code</th>\n",
       "    </tr>\n",
       "  </thead>\n",
       "  <tbody>\n",
       "    <tr>\n",
       "      <th>1</th>\n",
       "      <td>612666</td>\n",
       "      <td>Z/MZFFUFGDGZQ</td>\n",
       "      <td>2014-04-01</td>\n",
       "      <td>BRU</td>\n",
       "      <td>BE</td>\n",
       "      <td>LNZ</td>\n",
       "      <td>AT</td>\n",
       "    </tr>\n",
       "    <tr>\n",
       "      <th>3</th>\n",
       "      <td>827666</td>\n",
       "      <td>T/HUYMXMTGOTMUM</td>\n",
       "      <td>2013-02-02</td>\n",
       "      <td>BRU</td>\n",
       "      <td>BE</td>\n",
       "      <td>LIL</td>\n",
       "      <td>FR</td>\n",
       "    </tr>\n",
       "    <tr>\n",
       "      <th>4</th>\n",
       "      <td>8PD666</td>\n",
       "      <td>YU/YUDVMMTHQZEMX</td>\n",
       "      <td>2013-10-25</td>\n",
       "      <td>BRU</td>\n",
       "      <td>BE</td>\n",
       "      <td>MMX</td>\n",
       "      <td>SE</td>\n",
       "    </tr>\n",
       "    <tr>\n",
       "      <th>7</th>\n",
       "      <td>0QB666</td>\n",
       "      <td>VAZMFTMZBQSXQD/</td>\n",
       "      <td>2014-04-01</td>\n",
       "      <td>BRU</td>\n",
       "      <td>BE</td>\n",
       "      <td>KTM</td>\n",
       "      <td>NP</td>\n",
       "    </tr>\n",
       "    <tr>\n",
       "      <th>10</th>\n",
       "      <td>13J666</td>\n",
       "      <td>QZ/WMDUYUQFFUZ</td>\n",
       "      <td>2013-01-17</td>\n",
       "      <td>ALG</td>\n",
       "      <td>DZ</td>\n",
       "      <td>BRU</td>\n",
       "      <td>BE</td>\n",
       "    </tr>\n",
       "  </tbody>\n",
       "</table>\n",
       "</div>"
      ],
      "text/plain": [
       "      rloc         full_name departure_date_leg board_point  \\\n",
       "1   612666     Z/MZFFUFGDGZQ         2014-04-01         BRU   \n",
       "3   827666   T/HUYMXMTGOTMUM         2013-02-02         BRU   \n",
       "4   8PD666  YU/YUDVMMTHQZEMX         2013-10-25         BRU   \n",
       "7   0QB666   VAZMFTMZBQSXQD/         2014-04-01         BRU   \n",
       "10  13J666    QZ/WMDUYUQFFUZ         2013-01-17         ALG   \n",
       "\n",
       "   board_country_code off_point off_country_code  \n",
       "1                  BE       LNZ               AT  \n",
       "3                  BE       LIL               FR  \n",
       "4                  BE       MMX               SE  \n",
       "7                  BE       KTM               NP  \n",
       "10                 DZ       BRU               BE  "
      ]
     },
     "execution_count": 3,
     "metadata": {},
     "output_type": "execute_result"
    }
   ],
   "source": [
    "data.head()"
   ]
  },
  {
   "cell_type": "code",
   "execution_count": 4,
   "metadata": {
    "collapsed": true
   },
   "outputs": [],
   "source": [
    "#agrupamos todos los viajes que realiza una persona en un mismo registro"
   ]
  },
  {
   "cell_type": "code",
   "execution_count": 5,
   "metadata": {
    "collapsed": true
   },
   "outputs": [],
   "source": [
    "grouped = data.groupby('full_name')['off_country_code'].apply(lambda x: \"%s\" % '|'.join(x)).reset_index()"
   ]
  },
  {
   "cell_type": "code",
   "execution_count": 6,
   "metadata": {},
   "outputs": [
    {
     "data": {
      "text/html": [
       "<div>\n",
       "<style>\n",
       "    .dataframe thead tr:only-child th {\n",
       "        text-align: right;\n",
       "    }\n",
       "\n",
       "    .dataframe thead th {\n",
       "        text-align: left;\n",
       "    }\n",
       "\n",
       "    .dataframe tbody tr th {\n",
       "        vertical-align: top;\n",
       "    }\n",
       "</style>\n",
       "<table border=\"1\" class=\"dataframe\">\n",
       "  <thead>\n",
       "    <tr style=\"text-align: right;\">\n",
       "      <th></th>\n",
       "      <th>full_name</th>\n",
       "      <th>off_country_code</th>\n",
       "    </tr>\n",
       "  </thead>\n",
       "  <tbody>\n",
       "    <tr>\n",
       "      <th>0</th>\n",
       "      <td>ADHAWWU YMDSMDQFMOTDUEFQZEQZ/FGGXM</td>\n",
       "      <td>BE|SE</td>\n",
       "    </tr>\n",
       "    <tr>\n",
       "      <th>1</th>\n",
       "      <td>AEEU MZFQDAXMTFU/VAGZU</td>\n",
       "      <td>DZ</td>\n",
       "    </tr>\n",
       "    <tr>\n",
       "      <th>2</th>\n",
       "      <td>AEOMD IUXTQXYWMDXEEAZ/MMWQ</td>\n",
       "      <td>SE|BE</td>\n",
       "    </tr>\n",
       "    <tr>\n",
       "      <th>3</th>\n",
       "      <td>AEOMD SGZZMDEEDQUZTMDP/NVADZ</td>\n",
       "      <td>DE|BE</td>\n",
       "    </tr>\n",
       "    <tr>\n",
       "      <th>4</th>\n",
       "      <td>AEOMD VATMZZQEYMDFUZEEAZ/XMDE</td>\n",
       "      <td>BE</td>\n",
       "    </tr>\n",
       "  </tbody>\n",
       "</table>\n",
       "</div>"
      ],
      "text/plain": [
       "                             full_name off_country_code\n",
       "0   ADHAWWU YMDSMDQFMOTDUEFQZEQZ/FGGXM            BE|SE\n",
       "1               AEEU MZFQDAXMTFU/VAGZU               DZ\n",
       "2           AEOMD IUXTQXYWMDXEEAZ/MMWQ            SE|BE\n",
       "3         AEOMD SGZZMDEEDQUZTMDP/NVADZ            DE|BE\n",
       "4        AEOMD VATMZZQEYMDFUZEEAZ/XMDE               BE"
      ]
     },
     "execution_count": 6,
     "metadata": {},
     "output_type": "execute_result"
    }
   ],
   "source": [
    "grouped.head()"
   ]
  },
  {
   "cell_type": "code",
   "execution_count": 7,
   "metadata": {
    "collapsed": true
   },
   "outputs": [],
   "source": [
    "#convertimos cada regristro de todos los viajes en un vector de 0,1 marcando si ha ido de viaje al pais o no\n",
    "#para ello utilizamos la funcion get_dummies"
   ]
  },
  {
   "cell_type": "code",
   "execution_count": 8,
   "metadata": {
    "collapsed": true
   },
   "outputs": [],
   "source": [
    "datos = pd.concat([grouped,grouped.off_country_code.str.get_dummies(sep = '|')],axis = 1)"
   ]
  },
  {
   "cell_type": "code",
   "execution_count": 9,
   "metadata": {},
   "outputs": [
    {
     "data": {
      "text/html": [
       "<div>\n",
       "<style>\n",
       "    .dataframe thead tr:only-child th {\n",
       "        text-align: right;\n",
       "    }\n",
       "\n",
       "    .dataframe thead th {\n",
       "        text-align: left;\n",
       "    }\n",
       "\n",
       "    .dataframe tbody tr th {\n",
       "        vertical-align: top;\n",
       "    }\n",
       "</style>\n",
       "<table border=\"1\" class=\"dataframe\">\n",
       "  <thead>\n",
       "    <tr style=\"text-align: right;\">\n",
       "      <th></th>\n",
       "      <th>full_name</th>\n",
       "      <th>off_country_code</th>\n",
       "      <th>AT</th>\n",
       "      <th>BE</th>\n",
       "      <th>BG</th>\n",
       "      <th>CA</th>\n",
       "      <th>CH</th>\n",
       "      <th>CN</th>\n",
       "      <th>CV</th>\n",
       "      <th>CY</th>\n",
       "      <th>...</th>\n",
       "      <th>PT</th>\n",
       "      <th>RU</th>\n",
       "      <th>SA</th>\n",
       "      <th>SE</th>\n",
       "      <th>TN</th>\n",
       "      <th>TR</th>\n",
       "      <th>UA</th>\n",
       "      <th>US</th>\n",
       "      <th>UZ</th>\n",
       "      <th>ZM</th>\n",
       "    </tr>\n",
       "  </thead>\n",
       "  <tbody>\n",
       "    <tr>\n",
       "      <th>0</th>\n",
       "      <td>ADHAWWU YMDSMDQFMOTDUEFQZEQZ/FGGXM</td>\n",
       "      <td>BE|SE</td>\n",
       "      <td>0</td>\n",
       "      <td>1</td>\n",
       "      <td>0</td>\n",
       "      <td>0</td>\n",
       "      <td>0</td>\n",
       "      <td>0</td>\n",
       "      <td>0</td>\n",
       "      <td>0</td>\n",
       "      <td>...</td>\n",
       "      <td>0</td>\n",
       "      <td>0</td>\n",
       "      <td>0</td>\n",
       "      <td>1</td>\n",
       "      <td>0</td>\n",
       "      <td>0</td>\n",
       "      <td>0</td>\n",
       "      <td>0</td>\n",
       "      <td>0</td>\n",
       "      <td>0</td>\n",
       "    </tr>\n",
       "    <tr>\n",
       "      <th>1</th>\n",
       "      <td>AEEU MZFQDAXMTFU/VAGZU</td>\n",
       "      <td>DZ</td>\n",
       "      <td>0</td>\n",
       "      <td>0</td>\n",
       "      <td>0</td>\n",
       "      <td>0</td>\n",
       "      <td>0</td>\n",
       "      <td>0</td>\n",
       "      <td>0</td>\n",
       "      <td>0</td>\n",
       "      <td>...</td>\n",
       "      <td>0</td>\n",
       "      <td>0</td>\n",
       "      <td>0</td>\n",
       "      <td>0</td>\n",
       "      <td>0</td>\n",
       "      <td>0</td>\n",
       "      <td>0</td>\n",
       "      <td>0</td>\n",
       "      <td>0</td>\n",
       "      <td>0</td>\n",
       "    </tr>\n",
       "    <tr>\n",
       "      <th>2</th>\n",
       "      <td>AEOMD IUXTQXYWMDXEEAZ/MMWQ</td>\n",
       "      <td>SE|BE</td>\n",
       "      <td>0</td>\n",
       "      <td>1</td>\n",
       "      <td>0</td>\n",
       "      <td>0</td>\n",
       "      <td>0</td>\n",
       "      <td>0</td>\n",
       "      <td>0</td>\n",
       "      <td>0</td>\n",
       "      <td>...</td>\n",
       "      <td>0</td>\n",
       "      <td>0</td>\n",
       "      <td>0</td>\n",
       "      <td>1</td>\n",
       "      <td>0</td>\n",
       "      <td>0</td>\n",
       "      <td>0</td>\n",
       "      <td>0</td>\n",
       "      <td>0</td>\n",
       "      <td>0</td>\n",
       "    </tr>\n",
       "    <tr>\n",
       "      <th>3</th>\n",
       "      <td>AEOMD SGZZMDEEDQUZTMDP/NVADZ</td>\n",
       "      <td>DE|BE</td>\n",
       "      <td>0</td>\n",
       "      <td>1</td>\n",
       "      <td>0</td>\n",
       "      <td>0</td>\n",
       "      <td>0</td>\n",
       "      <td>0</td>\n",
       "      <td>0</td>\n",
       "      <td>0</td>\n",
       "      <td>...</td>\n",
       "      <td>0</td>\n",
       "      <td>0</td>\n",
       "      <td>0</td>\n",
       "      <td>0</td>\n",
       "      <td>0</td>\n",
       "      <td>0</td>\n",
       "      <td>0</td>\n",
       "      <td>0</td>\n",
       "      <td>0</td>\n",
       "      <td>0</td>\n",
       "    </tr>\n",
       "    <tr>\n",
       "      <th>4</th>\n",
       "      <td>AEOMD VATMZZQEYMDFUZEEAZ/XMDE</td>\n",
       "      <td>BE</td>\n",
       "      <td>0</td>\n",
       "      <td>1</td>\n",
       "      <td>0</td>\n",
       "      <td>0</td>\n",
       "      <td>0</td>\n",
       "      <td>0</td>\n",
       "      <td>0</td>\n",
       "      <td>0</td>\n",
       "      <td>...</td>\n",
       "      <td>0</td>\n",
       "      <td>0</td>\n",
       "      <td>0</td>\n",
       "      <td>0</td>\n",
       "      <td>0</td>\n",
       "      <td>0</td>\n",
       "      <td>0</td>\n",
       "      <td>0</td>\n",
       "      <td>0</td>\n",
       "      <td>0</td>\n",
       "    </tr>\n",
       "  </tbody>\n",
       "</table>\n",
       "<p>5 rows × 46 columns</p>\n",
       "</div>"
      ],
      "text/plain": [
       "                             full_name off_country_code  AT  BE  BG  CA  CH  \\\n",
       "0   ADHAWWU YMDSMDQFMOTDUEFQZEQZ/FGGXM            BE|SE   0   1   0   0   0   \n",
       "1               AEEU MZFQDAXMTFU/VAGZU               DZ   0   0   0   0   0   \n",
       "2           AEOMD IUXTQXYWMDXEEAZ/MMWQ            SE|BE   0   1   0   0   0   \n",
       "3         AEOMD SGZZMDEEDQUZTMDP/NVADZ            DE|BE   0   1   0   0   0   \n",
       "4        AEOMD VATMZZQEYMDFUZEEAZ/XMDE               BE   0   1   0   0   0   \n",
       "\n",
       "   CN  CV  CY ...  PT  RU  SA  SE  TN  TR  UA  US  UZ  ZM  \n",
       "0   0   0   0 ...   0   0   0   1   0   0   0   0   0   0  \n",
       "1   0   0   0 ...   0   0   0   0   0   0   0   0   0   0  \n",
       "2   0   0   0 ...   0   0   0   1   0   0   0   0   0   0  \n",
       "3   0   0   0 ...   0   0   0   0   0   0   0   0   0   0  \n",
       "4   0   0   0 ...   0   0   0   0   0   0   0   0   0   0  \n",
       "\n",
       "[5 rows x 46 columns]"
      ]
     },
     "execution_count": 9,
     "metadata": {},
     "output_type": "execute_result"
    }
   ],
   "source": [
    "datos.head()"
   ]
  },
  {
   "cell_type": "markdown",
   "metadata": {},
   "source": [
    "## Cargo los datos del modelo en la base de datos"
   ]
  },
  {
   "cell_type": "code",
   "execution_count": 10,
   "metadata": {
    "collapsed": true
   },
   "outputs": [],
   "source": [
    "import sqlite3 as sql3\n",
    "path_db = '/home/pc/Escritorio/TFM/MyDestiny/MyDestinyAPP/MyDestiny/app.db'\n",
    "index = 'id'\n",
    "\n",
    "conn = sql3.connect(path_db)\n",
    "\n",
    "#datos.to_sql(name='datosmodelo', index_label=index, con=conn,if_exists='replace')"
   ]
  },
  {
   "cell_type": "code",
   "execution_count": null,
   "metadata": {
    "collapsed": true
   },
   "outputs": [],
   "source": []
  },
  {
   "cell_type": "markdown",
   "metadata": {},
   "source": [
    "## Creacion de raiting y recomendacion de viaje"
   ]
  },
  {
   "cell_type": "markdown",
   "metadata": {},
   "source": [
    "Ahora lo que vamos hacer es coger y agrupar todos los vectores que sean de la misma forma y contar cuantas veces aparecen, ese conteo sera el peso o raiting del vector.\n",
    "Una vez agrupados haremos un kneighbours para ver que vectores son los mas parecidos al que queremos predecir.\n",
    "Finalmente con los vectores parecidos calcularemos el coeficiente de cada pais de posible destino como la peso del vector dividio por la distancia al vector ogirinal y el pais que mas coeficiente saque será el recomendado"
   ]
  },
  {
   "cell_type": "markdown",
   "metadata": {},
   "source": [
    "un ejemplo sencillo de lo que se hace acontinuacion se puede ver el el notebook modelo_parte_2 que hace un caso sencillo de como se realiza lo descrito anteriormente"
   ]
  },
  {
   "cell_type": "code",
   "execution_count": 11,
   "metadata": {
    "collapsed": true
   },
   "outputs": [],
   "source": [
    "#agrupamos todos los vectores iguales"
   ]
  },
  {
   "cell_type": "code",
   "execution_count": 12,
   "metadata": {},
   "outputs": [
    {
     "data": {
      "text/html": [
       "<div>\n",
       "<style>\n",
       "    .dataframe thead tr:only-child th {\n",
       "        text-align: right;\n",
       "    }\n",
       "\n",
       "    .dataframe thead th {\n",
       "        text-align: left;\n",
       "    }\n",
       "\n",
       "    .dataframe tbody tr th {\n",
       "        vertical-align: top;\n",
       "    }\n",
       "</style>\n",
       "<table border=\"1\" class=\"dataframe\">\n",
       "  <thead>\n",
       "    <tr style=\"text-align: right;\">\n",
       "      <th></th>\n",
       "      <th>AT</th>\n",
       "      <th>BE</th>\n",
       "      <th>BG</th>\n",
       "      <th>CA</th>\n",
       "      <th>CH</th>\n",
       "      <th>CN</th>\n",
       "      <th>CV</th>\n",
       "      <th>CY</th>\n",
       "      <th>DE</th>\n",
       "      <th>DZ</th>\n",
       "      <th>...</th>\n",
       "      <th>RU</th>\n",
       "      <th>SA</th>\n",
       "      <th>SE</th>\n",
       "      <th>TN</th>\n",
       "      <th>TR</th>\n",
       "      <th>UA</th>\n",
       "      <th>US</th>\n",
       "      <th>UZ</th>\n",
       "      <th>ZM</th>\n",
       "      <th>full_name</th>\n",
       "    </tr>\n",
       "  </thead>\n",
       "  <tbody>\n",
       "    <tr>\n",
       "      <th>0</th>\n",
       "      <td>0</td>\n",
       "      <td>0</td>\n",
       "      <td>0</td>\n",
       "      <td>0</td>\n",
       "      <td>0</td>\n",
       "      <td>0</td>\n",
       "      <td>0</td>\n",
       "      <td>0</td>\n",
       "      <td>0</td>\n",
       "      <td>0</td>\n",
       "      <td>...</td>\n",
       "      <td>0</td>\n",
       "      <td>0</td>\n",
       "      <td>0</td>\n",
       "      <td>0</td>\n",
       "      <td>0</td>\n",
       "      <td>0</td>\n",
       "      <td>0</td>\n",
       "      <td>0</td>\n",
       "      <td>1</td>\n",
       "      <td>292</td>\n",
       "    </tr>\n",
       "    <tr>\n",
       "      <th>1</th>\n",
       "      <td>0</td>\n",
       "      <td>0</td>\n",
       "      <td>0</td>\n",
       "      <td>0</td>\n",
       "      <td>0</td>\n",
       "      <td>0</td>\n",
       "      <td>0</td>\n",
       "      <td>0</td>\n",
       "      <td>0</td>\n",
       "      <td>0</td>\n",
       "      <td>...</td>\n",
       "      <td>0</td>\n",
       "      <td>0</td>\n",
       "      <td>0</td>\n",
       "      <td>0</td>\n",
       "      <td>0</td>\n",
       "      <td>0</td>\n",
       "      <td>0</td>\n",
       "      <td>1</td>\n",
       "      <td>0</td>\n",
       "      <td>212</td>\n",
       "    </tr>\n",
       "    <tr>\n",
       "      <th>2</th>\n",
       "      <td>0</td>\n",
       "      <td>0</td>\n",
       "      <td>0</td>\n",
       "      <td>0</td>\n",
       "      <td>0</td>\n",
       "      <td>0</td>\n",
       "      <td>0</td>\n",
       "      <td>0</td>\n",
       "      <td>0</td>\n",
       "      <td>0</td>\n",
       "      <td>...</td>\n",
       "      <td>0</td>\n",
       "      <td>0</td>\n",
       "      <td>0</td>\n",
       "      <td>0</td>\n",
       "      <td>0</td>\n",
       "      <td>0</td>\n",
       "      <td>1</td>\n",
       "      <td>0</td>\n",
       "      <td>0</td>\n",
       "      <td>3875</td>\n",
       "    </tr>\n",
       "    <tr>\n",
       "      <th>3</th>\n",
       "      <td>0</td>\n",
       "      <td>0</td>\n",
       "      <td>0</td>\n",
       "      <td>0</td>\n",
       "      <td>0</td>\n",
       "      <td>0</td>\n",
       "      <td>0</td>\n",
       "      <td>0</td>\n",
       "      <td>0</td>\n",
       "      <td>0</td>\n",
       "      <td>...</td>\n",
       "      <td>0</td>\n",
       "      <td>0</td>\n",
       "      <td>0</td>\n",
       "      <td>0</td>\n",
       "      <td>0</td>\n",
       "      <td>0</td>\n",
       "      <td>1</td>\n",
       "      <td>0</td>\n",
       "      <td>1</td>\n",
       "      <td>1</td>\n",
       "    </tr>\n",
       "    <tr>\n",
       "      <th>4</th>\n",
       "      <td>0</td>\n",
       "      <td>0</td>\n",
       "      <td>0</td>\n",
       "      <td>0</td>\n",
       "      <td>0</td>\n",
       "      <td>0</td>\n",
       "      <td>0</td>\n",
       "      <td>0</td>\n",
       "      <td>0</td>\n",
       "      <td>0</td>\n",
       "      <td>...</td>\n",
       "      <td>0</td>\n",
       "      <td>0</td>\n",
       "      <td>0</td>\n",
       "      <td>0</td>\n",
       "      <td>0</td>\n",
       "      <td>1</td>\n",
       "      <td>0</td>\n",
       "      <td>0</td>\n",
       "      <td>0</td>\n",
       "      <td>4720</td>\n",
       "    </tr>\n",
       "  </tbody>\n",
       "</table>\n",
       "<p>5 rows × 45 columns</p>\n",
       "</div>"
      ],
      "text/plain": [
       "   AT  BE  BG  CA  CH  CN  CV  CY  DE  DZ    ...      RU  SA  SE  TN  TR  UA  \\\n",
       "0   0   0   0   0   0   0   0   0   0   0    ...       0   0   0   0   0   0   \n",
       "1   0   0   0   0   0   0   0   0   0   0    ...       0   0   0   0   0   0   \n",
       "2   0   0   0   0   0   0   0   0   0   0    ...       0   0   0   0   0   0   \n",
       "3   0   0   0   0   0   0   0   0   0   0    ...       0   0   0   0   0   0   \n",
       "4   0   0   0   0   0   0   0   0   0   0    ...       0   0   0   0   0   1   \n",
       "\n",
       "   US  UZ  ZM  full_name  \n",
       "0   0   0   1        292  \n",
       "1   0   1   0        212  \n",
       "2   1   0   0       3875  \n",
       "3   1   0   1          1  \n",
       "4   0   0   0       4720  \n",
       "\n",
       "[5 rows x 45 columns]"
      ]
     },
     "execution_count": 12,
     "metadata": {},
     "output_type": "execute_result"
    }
   ],
   "source": [
    "destinos = datos.columns[2:].tolist()\n",
    "agrupados = datos.groupby(destinos)['full_name'].count().reset_index()\n",
    "agrupados.head()"
   ]
  },
  {
   "cell_type": "markdown",
   "metadata": {},
   "source": [
    "## Crear la base de datos de agrupados"
   ]
  },
  {
   "cell_type": "code",
   "execution_count": 13,
   "metadata": {
    "collapsed": true
   },
   "outputs": [],
   "source": [
    "#agrupados.to_sql(name='agrupados_modelo', index_label=index, con=conn,if_exists='replace')"
   ]
  },
  {
   "cell_type": "code",
   "execution_count": 14,
   "metadata": {},
   "outputs": [
    {
     "data": {
      "text/plain": [
       "array([[0, 0, 0, ..., 0, 0, 1],\n",
       "       [0, 0, 0, ..., 0, 1, 0],\n",
       "       [0, 0, 0, ..., 1, 0, 0],\n",
       "       ..., \n",
       "       [1, 1, 1, ..., 1, 0, 0],\n",
       "       [1, 1, 1, ..., 0, 0, 0],\n",
       "       [1, 1, 1, ..., 1, 1, 0]])"
      ]
     },
     "execution_count": 14,
     "metadata": {},
     "output_type": "execute_result"
    }
   ],
   "source": [
    "#preparamos los datos para entrenar el modelo\n",
    "X= agrupados[destinos].values\n",
    "X"
   ]
  },
  {
   "cell_type": "code",
   "execution_count": 15,
   "metadata": {
    "collapsed": true
   },
   "outputs": [],
   "source": [
    "#entrenamos el modelo\n",
    "vecinos  = NearestNeighbors(n_neighbors=5,metric='cosine',algorithm='brute')\n",
    "vecinos = vecinos.fit(X)\n"
   ]
  },
  {
   "cell_type": "code",
   "execution_count": 16,
   "metadata": {},
   "outputs": [
    {
     "data": {
      "text/plain": [
       "full_name            AGFU TMZZQXQYGEFAZQZ/YUUM\n",
       "off_country_code                         BE|JE\n",
       "AT                                           0\n",
       "BE                                           1\n",
       "BG                                           0\n",
       "CA                                           0\n",
       "CH                                           0\n",
       "CN                                           0\n",
       "CV                                           0\n",
       "CY                                           0\n",
       "DE                                           0\n",
       "DZ                                           0\n",
       "ES                                           0\n",
       "FR                                           0\n",
       "GB                                           0\n",
       "GE                                           0\n",
       "GL                                           0\n",
       "GR                                           0\n",
       "IE                                           0\n",
       "IL                                           0\n",
       "IQ                                           0\n",
       "IS                                           0\n",
       "IT                                           0\n",
       "JE                                           1\n",
       "JO                                           0\n",
       "JP                                           0\n",
       "KE                                           0\n",
       "KG                                           0\n",
       "LK                                           0\n",
       "MA                                           0\n",
       "MK                                           0\n",
       "MX                                           0\n",
       "MZ                                           0\n",
       "NL                                           0\n",
       "NO                                           0\n",
       "NP                                           0\n",
       "PT                                           0\n",
       "RU                                           0\n",
       "SA                                           0\n",
       "SE                                           0\n",
       "TN                                           0\n",
       "TR                                           0\n",
       "UA                                           0\n",
       "US                                           0\n",
       "UZ                                           0\n",
       "ZM                                           0\n",
       "Name: 25, dtype: object"
      ]
     },
     "execution_count": 16,
     "metadata": {},
     "output_type": "execute_result"
    }
   ],
   "source": [
    "#este sera el valor a predecir\n",
    "#datos.iloc[8,:]\n",
    "predecir = np.array([datos[destinos].values[25]])\n",
    "datos.iloc[25,:]"
   ]
  },
  {
   "cell_type": "code",
   "execution_count": 17,
   "metadata": {},
   "outputs": [
    {
     "data": {
      "text/html": [
       "<div>\n",
       "<style>\n",
       "    .dataframe thead tr:only-child th {\n",
       "        text-align: right;\n",
       "    }\n",
       "\n",
       "    .dataframe thead th {\n",
       "        text-align: left;\n",
       "    }\n",
       "\n",
       "    .dataframe tbody tr th {\n",
       "        vertical-align: top;\n",
       "    }\n",
       "</style>\n",
       "<table border=\"1\" class=\"dataframe\">\n",
       "  <thead>\n",
       "    <tr style=\"text-align: right;\">\n",
       "      <th></th>\n",
       "      <th>AT</th>\n",
       "      <th>BE</th>\n",
       "      <th>BG</th>\n",
       "      <th>CA</th>\n",
       "      <th>CH</th>\n",
       "      <th>CN</th>\n",
       "      <th>CV</th>\n",
       "      <th>CY</th>\n",
       "      <th>DE</th>\n",
       "      <th>DZ</th>\n",
       "      <th>...</th>\n",
       "      <th>RU</th>\n",
       "      <th>SA</th>\n",
       "      <th>SE</th>\n",
       "      <th>TN</th>\n",
       "      <th>TR</th>\n",
       "      <th>UA</th>\n",
       "      <th>US</th>\n",
       "      <th>UZ</th>\n",
       "      <th>ZM</th>\n",
       "      <th>full_name</th>\n",
       "    </tr>\n",
       "  </thead>\n",
       "  <tbody>\n",
       "    <tr>\n",
       "      <th>1267</th>\n",
       "      <td>0</td>\n",
       "      <td>1</td>\n",
       "      <td>0</td>\n",
       "      <td>0</td>\n",
       "      <td>0</td>\n",
       "      <td>0</td>\n",
       "      <td>0</td>\n",
       "      <td>0</td>\n",
       "      <td>0</td>\n",
       "      <td>0</td>\n",
       "      <td>...</td>\n",
       "      <td>0</td>\n",
       "      <td>0</td>\n",
       "      <td>0</td>\n",
       "      <td>0</td>\n",
       "      <td>0</td>\n",
       "      <td>0</td>\n",
       "      <td>0</td>\n",
       "      <td>0</td>\n",
       "      <td>0</td>\n",
       "      <td>30771</td>\n",
       "    </tr>\n",
       "    <tr>\n",
       "      <th>16274</th>\n",
       "      <td>0</td>\n",
       "      <td>1</td>\n",
       "      <td>0</td>\n",
       "      <td>0</td>\n",
       "      <td>1</td>\n",
       "      <td>0</td>\n",
       "      <td>0</td>\n",
       "      <td>0</td>\n",
       "      <td>0</td>\n",
       "      <td>0</td>\n",
       "      <td>...</td>\n",
       "      <td>0</td>\n",
       "      <td>0</td>\n",
       "      <td>0</td>\n",
       "      <td>0</td>\n",
       "      <td>0</td>\n",
       "      <td>0</td>\n",
       "      <td>0</td>\n",
       "      <td>0</td>\n",
       "      <td>0</td>\n",
       "      <td>57</td>\n",
       "    </tr>\n",
       "    <tr>\n",
       "      <th>1314</th>\n",
       "      <td>0</td>\n",
       "      <td>1</td>\n",
       "      <td>0</td>\n",
       "      <td>0</td>\n",
       "      <td>0</td>\n",
       "      <td>0</td>\n",
       "      <td>0</td>\n",
       "      <td>0</td>\n",
       "      <td>0</td>\n",
       "      <td>0</td>\n",
       "      <td>...</td>\n",
       "      <td>0</td>\n",
       "      <td>0</td>\n",
       "      <td>0</td>\n",
       "      <td>0</td>\n",
       "      <td>0</td>\n",
       "      <td>0</td>\n",
       "      <td>0</td>\n",
       "      <td>0</td>\n",
       "      <td>0</td>\n",
       "      <td>100</td>\n",
       "    </tr>\n",
       "    <tr>\n",
       "      <th>1701</th>\n",
       "      <td>0</td>\n",
       "      <td>1</td>\n",
       "      <td>0</td>\n",
       "      <td>0</td>\n",
       "      <td>0</td>\n",
       "      <td>0</td>\n",
       "      <td>0</td>\n",
       "      <td>0</td>\n",
       "      <td>0</td>\n",
       "      <td>0</td>\n",
       "      <td>...</td>\n",
       "      <td>0</td>\n",
       "      <td>0</td>\n",
       "      <td>0</td>\n",
       "      <td>0</td>\n",
       "      <td>0</td>\n",
       "      <td>0</td>\n",
       "      <td>0</td>\n",
       "      <td>0</td>\n",
       "      <td>0</td>\n",
       "      <td>277</td>\n",
       "    </tr>\n",
       "    <tr>\n",
       "      <th>1454</th>\n",
       "      <td>0</td>\n",
       "      <td>1</td>\n",
       "      <td>0</td>\n",
       "      <td>0</td>\n",
       "      <td>0</td>\n",
       "      <td>0</td>\n",
       "      <td>0</td>\n",
       "      <td>0</td>\n",
       "      <td>0</td>\n",
       "      <td>0</td>\n",
       "      <td>...</td>\n",
       "      <td>0</td>\n",
       "      <td>0</td>\n",
       "      <td>0</td>\n",
       "      <td>0</td>\n",
       "      <td>0</td>\n",
       "      <td>0</td>\n",
       "      <td>0</td>\n",
       "      <td>0</td>\n",
       "      <td>0</td>\n",
       "      <td>26</td>\n",
       "    </tr>\n",
       "  </tbody>\n",
       "</table>\n",
       "<p>5 rows × 45 columns</p>\n",
       "</div>"
      ],
      "text/plain": [
       "       AT  BE  BG  CA  CH  CN  CV  CY  DE  DZ    ...      RU  SA  SE  TN  TR  \\\n",
       "1267    0   1   0   0   0   0   0   0   0   0    ...       0   0   0   0   0   \n",
       "16274   0   1   0   0   1   0   0   0   0   0    ...       0   0   0   0   0   \n",
       "1314    0   1   0   0   0   0   0   0   0   0    ...       0   0   0   0   0   \n",
       "1701    0   1   0   0   0   0   0   0   0   0    ...       0   0   0   0   0   \n",
       "1454    0   1   0   0   0   0   0   0   0   0    ...       0   0   0   0   0   \n",
       "\n",
       "       UA  US  UZ  ZM  full_name  \n",
       "1267    0   0   0   0      30771  \n",
       "16274   0   0   0   0         57  \n",
       "1314    0   0   0   0        100  \n",
       "1701    0   0   0   0        277  \n",
       "1454    0   0   0   0         26  \n",
       "\n",
       "[5 rows x 45 columns]"
      ]
     },
     "execution_count": 17,
     "metadata": {},
     "output_type": "execute_result"
    }
   ],
   "source": [
    "#sacamos las prediciones, o vectores que mas se asemejen al original\n",
    "distances, indices = vecinos.kneighbors(predecir)\n",
    "#serian los vecinos\n",
    "agrupados.iloc[indices[0],:]\n"
   ]
  },
  {
   "cell_type": "code",
   "execution_count": 18,
   "metadata": {
    "collapsed": true
   },
   "outputs": [],
   "source": [
    "#funcion auxiliar para restar dos listas coordenada a coordenada\n",
    "def restar(a,b):\n",
    "    lon = len(a)\n",
    "    sol = [0]*lon\n",
    "    for i in range(lon):\n",
    "        sol[i] = a[i]-b[i]\n",
    "    return sol"
   ]
  },
  {
   "cell_type": "code",
   "execution_count": 19,
   "metadata": {
    "collapsed": true
   },
   "outputs": [],
   "source": [
    "#funcion auxiliar para sumar dos listas coordenada a coordenada\n",
    "def suma(a,b):\n",
    "    lon = len(a)\n",
    "    sol = [0]*lon\n",
    "    for i in range(lon):\n",
    "        sol[i] = a[i]+b[i]\n",
    "    return sol"
   ]
  },
  {
   "cell_type": "code",
   "execution_count": 20,
   "metadata": {
    "collapsed": true
   },
   "outputs": [],
   "source": [
    "#funcion que calcula el pais con mas rating y acaba recomendandonoslo\n",
    "def dar_destino(listaCandidatos,pesos,distances,predecir):\n",
    "    destinos = []\n",
    "    for i in listaCandidatos:\n",
    "        aux = restar(i,predecir)\n",
    "        destinos.append(aux) \n",
    "    destinoPesos = []\n",
    "    for i in range(len(pesos)):\n",
    "        distancia = distances[i]\n",
    "        peso = pesos[i]\n",
    "        destino = destinos[i]\n",
    "        destinoPesos.append(map(lambda x: x*peso,destino))\n",
    "    sol = reduce(lambda x,y:suma(x,y),destinoPesos,[0]*len(destinoPesos[0]))\n",
    "    destino = sol.index(max(sol))\n",
    "    return destino"
   ]
  },
  {
   "cell_type": "code",
   "execution_count": 21,
   "metadata": {
    "collapsed": true
   },
   "outputs": [],
   "source": [
    "#definimos las variables para sacar resultado\n",
    "candidatos = agrupados.iloc[indices[0],:][destinos].values\n",
    "pesos = agrupados.iloc[indices[0],:]['full_name'].values"
   ]
  },
  {
   "cell_type": "code",
   "execution_count": 22,
   "metadata": {
    "collapsed": true
   },
   "outputs": [],
   "source": [
    "#obtenemos el resultado\n",
    "destino = dar_destino(candidatos,pesos,distances[0],predecir[0])\n",
    "nombreisodestino = destinos[destino]"
   ]
  },
  {
   "cell_type": "code",
   "execution_count": 88,
   "metadata": {
    "collapsed": true
   },
   "outputs": [],
   "source": [
    "#funcion que calcula el pais con mas rating y acaba recomendandonoslo\n",
    "def dar_destino_top5(listaCandidatos,pesos,distances,predecir):\n",
    "    destinos = []\n",
    "    for i in listaCandidatos:\n",
    "        aux = restar(i,predecir)\n",
    "        destinos.append(aux) \n",
    "    destinoPesos = []\n",
    "    for i in range(len(pesos)):\n",
    "        distancia = distances[i]\n",
    "        peso = pesos[i]\n",
    "        destino = destinos[i]\n",
    "        destinoPesos.append(map(lambda x: x*peso,destino))\n",
    "    sol = reduce(lambda x,y:suma(x,y),destinoPesos,[0]*len(destinoPesos[0]))\n",
    "    orden = sorted(sol)\n",
    "    orden.reverse()\n",
    "    top_5 = orden[0:5]\n",
    "    destino = [sol.index(i) for i in top_5]\n",
    "    return destino"
   ]
  },
  {
   "cell_type": "code",
   "execution_count": 89,
   "metadata": {},
   "outputs": [],
   "source": [
    "destino5 = dar_destino_top5(candidatos,pesos,distances[0],predecir[0])"
   ]
  },
  {
   "cell_type": "code",
   "execution_count": 90,
   "metadata": {},
   "outputs": [
    {
     "data": {
      "text/plain": [
       "[20, 34, 4, 26, 0]"
      ]
     },
     "execution_count": 90,
     "metadata": {},
     "output_type": "execute_result"
    }
   ],
   "source": [
    "destino5"
   ]
  },
  {
   "cell_type": "code",
   "execution_count": 91,
   "metadata": {},
   "outputs": [
    {
     "data": {
      "text/plain": [
       "['IT', 'PT', 'CH', 'LK', 'AT']"
      ]
     },
     "execution_count": 91,
     "metadata": {},
     "output_type": "execute_result"
    }
   ],
   "source": [
    "nombreisodestino5 = [destinos[i] for i in destino5]\n",
    "nombreisodestino5"
   ]
  },
  {
   "cell_type": "code",
   "execution_count": 92,
   "metadata": {},
   "outputs": [
    {
     "data": {
      "text/plain": [
       "'IT'"
      ]
     },
     "execution_count": 92,
     "metadata": {},
     "output_type": "execute_result"
    }
   ],
   "source": [
    "nombreisodestino"
   ]
  },
  {
   "cell_type": "markdown",
   "metadata": {},
   "source": [
    "Leemos de wikipedia una tabla con los nombres de los paises y sus correspondientes codigos iso, para poder traducir el resultado que viene en codigo iso, al nombre mas comun del pais"
   ]
  },
  {
   "cell_type": "code",
   "execution_count": 23,
   "metadata": {
    "collapsed": true
   },
   "outputs": [],
   "source": [
    "#codigos alfa-2\n",
    "tables = pd.read_html('https://es.wikipedia.org/wiki/ISO_3166-1')\n",
    "tabla = tables[1]\n",
    "columnas = tabla.iloc[0,:]\n",
    "tabla.columns = ['nombre_comun','nombre_oficial','alfa-2','alfa-3','cod_numerico','obervaciones']\n",
    "codigosPaises = tabla[1:]"
   ]
  },
  {
   "cell_type": "code",
   "execution_count": 24,
   "metadata": {},
   "outputs": [
    {
     "data": {
      "text/html": [
       "<div>\n",
       "<style>\n",
       "    .dataframe thead tr:only-child th {\n",
       "        text-align: right;\n",
       "    }\n",
       "\n",
       "    .dataframe thead th {\n",
       "        text-align: left;\n",
       "    }\n",
       "\n",
       "    .dataframe tbody tr th {\n",
       "        vertical-align: top;\n",
       "    }\n",
       "</style>\n",
       "<table border=\"1\" class=\"dataframe\">\n",
       "  <thead>\n",
       "    <tr style=\"text-align: right;\">\n",
       "      <th></th>\n",
       "      <th>nombre_comun</th>\n",
       "      <th>nombre_oficial</th>\n",
       "      <th>alfa-2</th>\n",
       "      <th>alfa-3</th>\n",
       "      <th>cod_numerico</th>\n",
       "      <th>obervaciones</th>\n",
       "    </tr>\n",
       "  </thead>\n",
       "  <tbody>\n",
       "    <tr>\n",
       "      <th>1</th>\n",
       "      <td>Afganistán</td>\n",
       "      <td>Afganistán</td>\n",
       "      <td>AF</td>\n",
       "      <td>AFG</td>\n",
       "      <td>004</td>\n",
       "      <td>NaN</td>\n",
       "    </tr>\n",
       "    <tr>\n",
       "      <th>2</th>\n",
       "      <td>Åland</td>\n",
       "      <td>Åland, Islas</td>\n",
       "      <td>AX</td>\n",
       "      <td>ALA</td>\n",
       "      <td>248</td>\n",
       "      <td>Es una provincia autónoma de Finlandia.</td>\n",
       "    </tr>\n",
       "    <tr>\n",
       "      <th>3</th>\n",
       "      <td>Albania</td>\n",
       "      <td>Albania</td>\n",
       "      <td>AL</td>\n",
       "      <td>ALB</td>\n",
       "      <td>008</td>\n",
       "      <td>NaN</td>\n",
       "    </tr>\n",
       "    <tr>\n",
       "      <th>4</th>\n",
       "      <td>Alemania</td>\n",
       "      <td>Alemania</td>\n",
       "      <td>DE</td>\n",
       "      <td>DEU</td>\n",
       "      <td>276</td>\n",
       "      <td>Códigos obtenidos del idioma nativo (alemán): ...</td>\n",
       "    </tr>\n",
       "    <tr>\n",
       "      <th>5</th>\n",
       "      <td>Andorra</td>\n",
       "      <td>Andorra</td>\n",
       "      <td>AD</td>\n",
       "      <td>AND</td>\n",
       "      <td>020</td>\n",
       "      <td>NaN</td>\n",
       "    </tr>\n",
       "  </tbody>\n",
       "</table>\n",
       "</div>"
      ],
      "text/plain": [
       "  nombre_comun nombre_oficial alfa-2 alfa-3 cod_numerico  \\\n",
       "1   Afganistán     Afganistán     AF    AFG          004   \n",
       "2        Åland   Åland, Islas     AX    ALA          248   \n",
       "3      Albania        Albania     AL    ALB          008   \n",
       "4     Alemania       Alemania     DE    DEU          276   \n",
       "5      Andorra        Andorra     AD    AND          020   \n",
       "\n",
       "                                        obervaciones  \n",
       "1                                                NaN  \n",
       "2            Es una provincia autónoma de Finlandia.  \n",
       "3                                                NaN  \n",
       "4  Códigos obtenidos del idioma nativo (alemán): ...  \n",
       "5                                                NaN  "
      ]
     },
     "execution_count": 24,
     "metadata": {},
     "output_type": "execute_result"
    }
   ],
   "source": [
    "codigosPaises.head()"
   ]
  },
  {
   "cell_type": "markdown",
   "metadata": {},
   "source": [
    "# Devolvemos la informacion del pais"
   ]
  },
  {
   "cell_type": "code",
   "execution_count": 25,
   "metadata": {
    "collapsed": true,
    "scrolled": true
   },
   "outputs": [],
   "source": [
    "destinoFinal = codigosPaises[codigosPaises['alfa-2']==nombreisodestino]"
   ]
  },
  {
   "cell_type": "code",
   "execution_count": 26,
   "metadata": {},
   "outputs": [
    {
     "data": {
      "text/html": [
       "<div>\n",
       "<style>\n",
       "    .dataframe thead tr:only-child th {\n",
       "        text-align: right;\n",
       "    }\n",
       "\n",
       "    .dataframe thead th {\n",
       "        text-align: left;\n",
       "    }\n",
       "\n",
       "    .dataframe tbody tr th {\n",
       "        vertical-align: top;\n",
       "    }\n",
       "</style>\n",
       "<table border=\"1\" class=\"dataframe\">\n",
       "  <thead>\n",
       "    <tr style=\"text-align: right;\">\n",
       "      <th></th>\n",
       "      <th>nombre_comun</th>\n",
       "      <th>nombre_oficial</th>\n",
       "      <th>alfa-2</th>\n",
       "      <th>alfa-3</th>\n",
       "      <th>cod_numerico</th>\n",
       "      <th>obervaciones</th>\n",
       "    </tr>\n",
       "  </thead>\n",
       "  <tbody>\n",
       "    <tr>\n",
       "      <th>118</th>\n",
       "      <td>Italia</td>\n",
       "      <td>Italia</td>\n",
       "      <td>IT</td>\n",
       "      <td>ITA</td>\n",
       "      <td>380</td>\n",
       "      <td>NaN</td>\n",
       "    </tr>\n",
       "  </tbody>\n",
       "</table>\n",
       "</div>"
      ],
      "text/plain": [
       "    nombre_comun nombre_oficial alfa-2 alfa-3 cod_numerico obervaciones\n",
       "118       Italia         Italia     IT    ITA          380          NaN"
      ]
     },
     "execution_count": 26,
     "metadata": {},
     "output_type": "execute_result"
    }
   ],
   "source": [
    "destinoFinal"
   ]
  },
  {
   "cell_type": "code",
   "execution_count": null,
   "metadata": {
    "collapsed": true
   },
   "outputs": [],
   "source": []
  }
 ],
 "metadata": {
  "kernelspec": {
   "display_name": "Python 2",
   "language": "python",
   "name": "python2"
  },
  "language_info": {
   "codemirror_mode": {
    "name": "ipython",
    "version": 2
   },
   "file_extension": ".py",
   "mimetype": "text/x-python",
   "name": "python",
   "nbconvert_exporter": "python",
   "pygments_lexer": "ipython2",
   "version": "2.7.13"
  }
 },
 "nbformat": 4,
 "nbformat_minor": 2
}
